{
 "cells": [
  {
   "cell_type": "markdown",
   "id": "c7eb5e41",
   "metadata": {},
   "source": [
    "## Make  A CNN\n"
   ]
  },
  {
   "cell_type": "code",
   "execution_count": null,
   "id": "13b03538",
   "metadata": {},
   "outputs": [],
   "source": [
    "#Import libraries\n",
    "\n"
   ]
  },
  {
   "cell_type": "code",
   "execution_count": null,
   "id": "1c8bcd08",
   "metadata": {},
   "outputs": [],
   "source": [
    "%pip install opencv-python numpy pandas polars"
   ]
  }
 ],
 "metadata": {
  "kernelspec": {
   "display_name": "Python 3",
   "language": "python",
   "name": "python3"
  },
  "language_info": {
   "name": "python",
   "version": "3.12.11"
  }
 },
 "nbformat": 4,
 "nbformat_minor": 5
}
